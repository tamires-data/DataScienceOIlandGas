{
  "nbformat": 4,
  "nbformat_minor": 0,
  "metadata": {
    "colab": {
      "name": "petrophysicswithpython.ipynb",
      "provenance": []
    },
    "kernelspec": {
      "name": "python3",
      "display_name": "Python 3"
    },
    "language_info": {
      "name": "python"
    }
  },
  "cells": [
    {
      "cell_type": "code",
      "metadata": {
        "id": "NhALb9xJ_NNH",
        "colab": {
          "base_uri": "https://localhost:8080/",
          "height": 476
        },
        "outputId": "4b55bb7e-7cc0-4ff2-89dc-249437ff2df0"
      },
      "source": [
        "import pandas as pd\n",
        "#import the .csv file as a dataframe\n",
        "data = pd.read_csv('15_9-19_A_CPI_LITHO.csv')\n",
        "# data is imported as a table with rows and columns\n",
        "data # entire dataset"
      ],
      "execution_count": 2,
      "outputs": [
        {
          "output_type": "execute_result",
          "data": {
            "text/html": [
              "<div>\n",
              "<style scoped>\n",
              "    .dataframe tbody tr th:only-of-type {\n",
              "        vertical-align: middle;\n",
              "    }\n",
              "\n",
              "    .dataframe tbody tr th {\n",
              "        vertical-align: top;\n",
              "    }\n",
              "\n",
              "    .dataframe thead th {\n",
              "        text-align: right;\n",
              "    }\n",
              "</style>\n",
              "<table border=\"1\" class=\"dataframe\">\n",
              "  <thead>\n",
              "    <tr style=\"text-align: right;\">\n",
              "      <th></th>\n",
              "      <th>COMMON_WELL_NAME</th>\n",
              "      <th>DEPTH (M)</th>\n",
              "      <th>BVW (V/V)</th>\n",
              "      <th>CARB_FLAG (UNITLESS)</th>\n",
              "      <th>COAL_FLAG (UNITLESS)</th>\n",
              "      <th>KLOGH (MD)</th>\n",
              "      <th>PHIF (V/V)</th>\n",
              "      <th>RHOFL (G/CM3)</th>\n",
              "      <th>RHOMA (G/CM3)</th>\n",
              "      <th>RW (OHMM)</th>\n",
              "      <th>SAND_FLAG (UNITLESS)</th>\n",
              "      <th>SW (V/V)</th>\n",
              "      <th>TEMP (DEGC)</th>\n",
              "      <th>VSH (V/V)</th>\n",
              "      <th>LITHOTYPE</th>\n",
              "    </tr>\n",
              "  </thead>\n",
              "  <tbody>\n",
              "    <tr>\n",
              "      <th>0</th>\n",
              "      <td>15/9-19 A</td>\n",
              "      <td>3666.5916</td>\n",
              "      <td>0.111705</td>\n",
              "      <td>0.0</td>\n",
              "      <td>0.0</td>\n",
              "      <td>0.0003</td>\n",
              "      <td>0.199843</td>\n",
              "      <td>0.8</td>\n",
              "      <td>2.66</td>\n",
              "      <td>0.021643</td>\n",
              "      <td>0.0</td>\n",
              "      <td>0.5590</td>\n",
              "      <td>112.7249</td>\n",
              "      <td>0.598800</td>\n",
              "      <td>OTHER</td>\n",
              "    </tr>\n",
              "    <tr>\n",
              "      <th>1</th>\n",
              "      <td>15/9-19 A</td>\n",
              "      <td>3666.7440</td>\n",
              "      <td>0.112236</td>\n",
              "      <td>0.0</td>\n",
              "      <td>0.0</td>\n",
              "      <td>0.0000</td>\n",
              "      <td>0.218743</td>\n",
              "      <td>0.8</td>\n",
              "      <td>2.66</td>\n",
              "      <td>0.021642</td>\n",
              "      <td>0.0</td>\n",
              "      <td>0.5131</td>\n",
              "      <td>112.7285</td>\n",
              "      <td>0.599555</td>\n",
              "      <td>OTHER</td>\n",
              "    </tr>\n",
              "    <tr>\n",
              "      <th>2</th>\n",
              "      <td>15/9-19 A</td>\n",
              "      <td>3666.8964</td>\n",
              "      <td>0.114825</td>\n",
              "      <td>0.0</td>\n",
              "      <td>0.0</td>\n",
              "      <td>0.0000</td>\n",
              "      <td>0.242380</td>\n",
              "      <td>0.8</td>\n",
              "      <td>2.66</td>\n",
              "      <td>0.021642</td>\n",
              "      <td>0.0</td>\n",
              "      <td>0.4737</td>\n",
              "      <td>112.7321</td>\n",
              "      <td>0.600310</td>\n",
              "      <td>OTHER</td>\n",
              "    </tr>\n",
              "    <tr>\n",
              "      <th>3</th>\n",
              "      <td>15/9-19 A</td>\n",
              "      <td>3667.0488</td>\n",
              "      <td>0.114419</td>\n",
              "      <td>0.0</td>\n",
              "      <td>0.0</td>\n",
              "      <td>0.0000</td>\n",
              "      <td>0.226408</td>\n",
              "      <td>0.8</td>\n",
              "      <td>2.66</td>\n",
              "      <td>0.021641</td>\n",
              "      <td>0.0</td>\n",
              "      <td>0.5054</td>\n",
              "      <td>112.7358</td>\n",
              "      <td>0.601065</td>\n",
              "      <td>OTHER</td>\n",
              "    </tr>\n",
              "    <tr>\n",
              "      <th>4</th>\n",
              "      <td>15/9-19 A</td>\n",
              "      <td>3667.2012</td>\n",
              "      <td>0.115867</td>\n",
              "      <td>0.0</td>\n",
              "      <td>0.0</td>\n",
              "      <td>0.0000</td>\n",
              "      <td>0.216169</td>\n",
              "      <td>0.8</td>\n",
              "      <td>2.66</td>\n",
              "      <td>0.021640</td>\n",
              "      <td>0.0</td>\n",
              "      <td>0.5360</td>\n",
              "      <td>112.7394</td>\n",
              "      <td>0.601820</td>\n",
              "      <td>CLST.SLTY-X-X</td>\n",
              "    </tr>\n",
              "    <tr>\n",
              "      <th>...</th>\n",
              "      <td>...</td>\n",
              "      <td>...</td>\n",
              "      <td>...</td>\n",
              "      <td>...</td>\n",
              "      <td>...</td>\n",
              "      <td>...</td>\n",
              "      <td>...</td>\n",
              "      <td>...</td>\n",
              "      <td>...</td>\n",
              "      <td>...</td>\n",
              "      <td>...</td>\n",
              "      <td>...</td>\n",
              "      <td>...</td>\n",
              "      <td>...</td>\n",
              "      <td>...</td>\n",
              "    </tr>\n",
              "    <tr>\n",
              "      <th>3003</th>\n",
              "      <td>15/9-19 A</td>\n",
              "      <td>4124.2488</td>\n",
              "      <td>NaN</td>\n",
              "      <td>0.0</td>\n",
              "      <td>0.0</td>\n",
              "      <td>NaN</td>\n",
              "      <td>NaN</td>\n",
              "      <td>0.9</td>\n",
              "      <td>NaN</td>\n",
              "      <td>NaN</td>\n",
              "      <td>NaN</td>\n",
              "      <td>NaN</td>\n",
              "      <td>NaN</td>\n",
              "      <td>0.422817</td>\n",
              "      <td>OTHER</td>\n",
              "    </tr>\n",
              "    <tr>\n",
              "      <th>3004</th>\n",
              "      <td>15/9-19 A</td>\n",
              "      <td>4124.4012</td>\n",
              "      <td>NaN</td>\n",
              "      <td>0.0</td>\n",
              "      <td>0.0</td>\n",
              "      <td>NaN</td>\n",
              "      <td>NaN</td>\n",
              "      <td>0.9</td>\n",
              "      <td>NaN</td>\n",
              "      <td>NaN</td>\n",
              "      <td>NaN</td>\n",
              "      <td>NaN</td>\n",
              "      <td>NaN</td>\n",
              "      <td>0.422817</td>\n",
              "      <td>OTHER</td>\n",
              "    </tr>\n",
              "    <tr>\n",
              "      <th>3005</th>\n",
              "      <td>15/9-19 A</td>\n",
              "      <td>4124.5536</td>\n",
              "      <td>NaN</td>\n",
              "      <td>0.0</td>\n",
              "      <td>0.0</td>\n",
              "      <td>NaN</td>\n",
              "      <td>NaN</td>\n",
              "      <td>0.9</td>\n",
              "      <td>NaN</td>\n",
              "      <td>NaN</td>\n",
              "      <td>NaN</td>\n",
              "      <td>NaN</td>\n",
              "      <td>NaN</td>\n",
              "      <td>0.422817</td>\n",
              "      <td>OTHER</td>\n",
              "    </tr>\n",
              "    <tr>\n",
              "      <th>3006</th>\n",
              "      <td>15/9-19 A</td>\n",
              "      <td>4124.7060</td>\n",
              "      <td>NaN</td>\n",
              "      <td>0.0</td>\n",
              "      <td>0.0</td>\n",
              "      <td>NaN</td>\n",
              "      <td>NaN</td>\n",
              "      <td>0.9</td>\n",
              "      <td>NaN</td>\n",
              "      <td>NaN</td>\n",
              "      <td>NaN</td>\n",
              "      <td>NaN</td>\n",
              "      <td>NaN</td>\n",
              "      <td>0.422817</td>\n",
              "      <td>OTHER</td>\n",
              "    </tr>\n",
              "    <tr>\n",
              "      <th>3007</th>\n",
              "      <td>15/9-19 A</td>\n",
              "      <td>4124.8584</td>\n",
              "      <td>NaN</td>\n",
              "      <td>0.0</td>\n",
              "      <td>0.0</td>\n",
              "      <td>NaN</td>\n",
              "      <td>NaN</td>\n",
              "      <td>0.9</td>\n",
              "      <td>NaN</td>\n",
              "      <td>NaN</td>\n",
              "      <td>NaN</td>\n",
              "      <td>NaN</td>\n",
              "      <td>NaN</td>\n",
              "      <td>0.422817</td>\n",
              "      <td>OTHER</td>\n",
              "    </tr>\n",
              "  </tbody>\n",
              "</table>\n",
              "<p>3008 rows × 15 columns</p>\n",
              "</div>"
            ],
            "text/plain": [
              "     COMMON_WELL_NAME  DEPTH (M)  ...  VSH (V/V)      LITHOTYPE\n",
              "0           15/9-19 A  3666.5916  ...   0.598800          OTHER\n",
              "1           15/9-19 A  3666.7440  ...   0.599555          OTHER\n",
              "2           15/9-19 A  3666.8964  ...   0.600310          OTHER\n",
              "3           15/9-19 A  3667.0488  ...   0.601065          OTHER\n",
              "4           15/9-19 A  3667.2012  ...   0.601820  CLST.SLTY-X-X\n",
              "...               ...        ...  ...        ...            ...\n",
              "3003        15/9-19 A  4124.2488  ...   0.422817          OTHER\n",
              "3004        15/9-19 A  4124.4012  ...   0.422817          OTHER\n",
              "3005        15/9-19 A  4124.5536  ...   0.422817          OTHER\n",
              "3006        15/9-19 A  4124.7060  ...   0.422817          OTHER\n",
              "3007        15/9-19 A  4124.8584  ...   0.422817          OTHER\n",
              "\n",
              "[3008 rows x 15 columns]"
            ]
          },
          "metadata": {
            "tags": []
          },
          "execution_count": 2
        }
      ]
    },
    {
      "cell_type": "code",
      "metadata": {
        "colab": {
          "base_uri": "https://localhost:8080/"
        },
        "id": "NUlEsIsvKk9M",
        "outputId": "afa16d20-96b9-41da-9d4c-49930d31d074"
      },
      "source": [
        "data.index"
      ],
      "execution_count": 3,
      "outputs": [
        {
          "output_type": "execute_result",
          "data": {
            "text/plain": [
              "RangeIndex(start=0, stop=3008, step=1)"
            ]
          },
          "metadata": {
            "tags": []
          },
          "execution_count": 3
        }
      ]
    },
    {
      "cell_type": "code",
      "metadata": {
        "colab": {
          "base_uri": "https://localhost:8080/"
        },
        "id": "aELFy7MhKn-A",
        "outputId": "e0c37f85-d621-437f-af70-30acba2c0b47"
      },
      "source": [
        "data.columns"
      ],
      "execution_count": 4,
      "outputs": [
        {
          "output_type": "execute_result",
          "data": {
            "text/plain": [
              "Index(['COMMON_WELL_NAME', 'DEPTH (M)', 'BVW (V/V)', 'CARB_FLAG (UNITLESS)',\n",
              "       'COAL_FLAG (UNITLESS)', 'KLOGH (MD)', 'PHIF (V/V)', 'RHOFL (G/CM3)',\n",
              "       'RHOMA (G/CM3)', 'RW (OHMM)', 'SAND_FLAG (UNITLESS)', 'SW (V/V)',\n",
              "       'TEMP (DEGC)', 'VSH (V/V)', 'LITHOTYPE'],\n",
              "      dtype='object')"
            ]
          },
          "metadata": {
            "tags": []
          },
          "execution_count": 4
        }
      ]
    },
    {
      "cell_type": "code",
      "metadata": {
        "id": "GAgVcF8IK543"
      },
      "source": [
        "\n",
        "data2 = pd.read_csv('15_9-19_BT2_CPI_LITHO.csv')\n",
        "data_combined = pd.merge(data, data2, how=\"outer\", on = None)"
      ],
      "execution_count": 5,
      "outputs": []
    },
    {
      "cell_type": "code",
      "metadata": {
        "colab": {
          "base_uri": "https://localhost:8080/",
          "height": 476
        },
        "id": "2nhukbLoLDl5",
        "outputId": "f910129c-7bbe-4104-878f-e44a5537de92"
      },
      "source": [
        "data_combined"
      ],
      "execution_count": 6,
      "outputs": [
        {
          "output_type": "execute_result",
          "data": {
            "text/html": [
              "<div>\n",
              "<style scoped>\n",
              "    .dataframe tbody tr th:only-of-type {\n",
              "        vertical-align: middle;\n",
              "    }\n",
              "\n",
              "    .dataframe tbody tr th {\n",
              "        vertical-align: top;\n",
              "    }\n",
              "\n",
              "    .dataframe thead th {\n",
              "        text-align: right;\n",
              "    }\n",
              "</style>\n",
              "<table border=\"1\" class=\"dataframe\">\n",
              "  <thead>\n",
              "    <tr style=\"text-align: right;\">\n",
              "      <th></th>\n",
              "      <th>COMMON_WELL_NAME</th>\n",
              "      <th>DEPTH (M)</th>\n",
              "      <th>BVW (V/V)</th>\n",
              "      <th>CARB_FLAG (UNITLESS)</th>\n",
              "      <th>COAL_FLAG (UNITLESS)</th>\n",
              "      <th>KLOGH (MD)</th>\n",
              "      <th>PHIF (V/V)</th>\n",
              "      <th>RHOFL (G/CM3)</th>\n",
              "      <th>RHOMA (G/CM3)</th>\n",
              "      <th>RW (OHMM)</th>\n",
              "      <th>SAND_FLAG (UNITLESS)</th>\n",
              "      <th>SW (V/V)</th>\n",
              "      <th>TEMP (DEGC)</th>\n",
              "      <th>VSH (V/V)</th>\n",
              "      <th>LITHOTYPE</th>\n",
              "    </tr>\n",
              "  </thead>\n",
              "  <tbody>\n",
              "    <tr>\n",
              "      <th>0</th>\n",
              "      <td>15/9-19 A</td>\n",
              "      <td>3666.5916</td>\n",
              "      <td>0.111705</td>\n",
              "      <td>0.0</td>\n",
              "      <td>0.0</td>\n",
              "      <td>0.0003</td>\n",
              "      <td>0.199843</td>\n",
              "      <td>0.8</td>\n",
              "      <td>2.66</td>\n",
              "      <td>0.021643</td>\n",
              "      <td>0.0</td>\n",
              "      <td>0.5590</td>\n",
              "      <td>112.7249</td>\n",
              "      <td>0.598800</td>\n",
              "      <td>OTHER</td>\n",
              "    </tr>\n",
              "    <tr>\n",
              "      <th>1</th>\n",
              "      <td>15/9-19 A</td>\n",
              "      <td>3666.7440</td>\n",
              "      <td>0.112236</td>\n",
              "      <td>0.0</td>\n",
              "      <td>0.0</td>\n",
              "      <td>0.0000</td>\n",
              "      <td>0.218743</td>\n",
              "      <td>0.8</td>\n",
              "      <td>2.66</td>\n",
              "      <td>0.021642</td>\n",
              "      <td>0.0</td>\n",
              "      <td>0.5131</td>\n",
              "      <td>112.7285</td>\n",
              "      <td>0.599555</td>\n",
              "      <td>OTHER</td>\n",
              "    </tr>\n",
              "    <tr>\n",
              "      <th>2</th>\n",
              "      <td>15/9-19 A</td>\n",
              "      <td>3666.8964</td>\n",
              "      <td>0.114825</td>\n",
              "      <td>0.0</td>\n",
              "      <td>0.0</td>\n",
              "      <td>0.0000</td>\n",
              "      <td>0.242380</td>\n",
              "      <td>0.8</td>\n",
              "      <td>2.66</td>\n",
              "      <td>0.021642</td>\n",
              "      <td>0.0</td>\n",
              "      <td>0.4737</td>\n",
              "      <td>112.7321</td>\n",
              "      <td>0.600310</td>\n",
              "      <td>OTHER</td>\n",
              "    </tr>\n",
              "    <tr>\n",
              "      <th>3</th>\n",
              "      <td>15/9-19 A</td>\n",
              "      <td>3667.0488</td>\n",
              "      <td>0.114419</td>\n",
              "      <td>0.0</td>\n",
              "      <td>0.0</td>\n",
              "      <td>0.0000</td>\n",
              "      <td>0.226408</td>\n",
              "      <td>0.8</td>\n",
              "      <td>2.66</td>\n",
              "      <td>0.021641</td>\n",
              "      <td>0.0</td>\n",
              "      <td>0.5054</td>\n",
              "      <td>112.7358</td>\n",
              "      <td>0.601065</td>\n",
              "      <td>OTHER</td>\n",
              "    </tr>\n",
              "    <tr>\n",
              "      <th>4</th>\n",
              "      <td>15/9-19 A</td>\n",
              "      <td>3667.2012</td>\n",
              "      <td>0.115867</td>\n",
              "      <td>0.0</td>\n",
              "      <td>0.0</td>\n",
              "      <td>0.0000</td>\n",
              "      <td>0.216169</td>\n",
              "      <td>0.8</td>\n",
              "      <td>2.66</td>\n",
              "      <td>0.021640</td>\n",
              "      <td>0.0</td>\n",
              "      <td>0.5360</td>\n",
              "      <td>112.7394</td>\n",
              "      <td>0.601820</td>\n",
              "      <td>CLST.SLTY-X-X</td>\n",
              "    </tr>\n",
              "    <tr>\n",
              "      <th>...</th>\n",
              "      <td>...</td>\n",
              "      <td>...</td>\n",
              "      <td>...</td>\n",
              "      <td>...</td>\n",
              "      <td>...</td>\n",
              "      <td>...</td>\n",
              "      <td>...</td>\n",
              "      <td>...</td>\n",
              "      <td>...</td>\n",
              "      <td>...</td>\n",
              "      <td>...</td>\n",
              "      <td>...</td>\n",
              "      <td>...</td>\n",
              "      <td>...</td>\n",
              "      <td>...</td>\n",
              "    </tr>\n",
              "    <tr>\n",
              "      <th>6165</th>\n",
              "      <td>15/9-19 BT2</td>\n",
              "      <td>4249.2168</td>\n",
              "      <td>NaN</td>\n",
              "      <td>NaN</td>\n",
              "      <td>0.0</td>\n",
              "      <td>NaN</td>\n",
              "      <td>NaN</td>\n",
              "      <td>0.9</td>\n",
              "      <td>NaN</td>\n",
              "      <td>NaN</td>\n",
              "      <td>NaN</td>\n",
              "      <td>NaN</td>\n",
              "      <td>NaN</td>\n",
              "      <td>NaN</td>\n",
              "      <td>CLST-X-X</td>\n",
              "    </tr>\n",
              "    <tr>\n",
              "      <th>6166</th>\n",
              "      <td>15/9-19 BT2</td>\n",
              "      <td>4249.3692</td>\n",
              "      <td>NaN</td>\n",
              "      <td>0.0</td>\n",
              "      <td>0.0</td>\n",
              "      <td>NaN</td>\n",
              "      <td>NaN</td>\n",
              "      <td>0.9</td>\n",
              "      <td>NaN</td>\n",
              "      <td>NaN</td>\n",
              "      <td>NaN</td>\n",
              "      <td>NaN</td>\n",
              "      <td>NaN</td>\n",
              "      <td>NaN</td>\n",
              "      <td>OTHER</td>\n",
              "    </tr>\n",
              "    <tr>\n",
              "      <th>6167</th>\n",
              "      <td>15/9-19 BT2</td>\n",
              "      <td>4249.5216</td>\n",
              "      <td>NaN</td>\n",
              "      <td>0.0</td>\n",
              "      <td>0.0</td>\n",
              "      <td>NaN</td>\n",
              "      <td>NaN</td>\n",
              "      <td>0.9</td>\n",
              "      <td>NaN</td>\n",
              "      <td>NaN</td>\n",
              "      <td>NaN</td>\n",
              "      <td>NaN</td>\n",
              "      <td>NaN</td>\n",
              "      <td>NaN</td>\n",
              "      <td>OTHER</td>\n",
              "    </tr>\n",
              "    <tr>\n",
              "      <th>6168</th>\n",
              "      <td>15/9-19 BT2</td>\n",
              "      <td>4249.6740</td>\n",
              "      <td>NaN</td>\n",
              "      <td>0.0</td>\n",
              "      <td>0.0</td>\n",
              "      <td>NaN</td>\n",
              "      <td>NaN</td>\n",
              "      <td>0.9</td>\n",
              "      <td>NaN</td>\n",
              "      <td>NaN</td>\n",
              "      <td>NaN</td>\n",
              "      <td>NaN</td>\n",
              "      <td>NaN</td>\n",
              "      <td>NaN</td>\n",
              "      <td>OTHER</td>\n",
              "    </tr>\n",
              "    <tr>\n",
              "      <th>6169</th>\n",
              "      <td>15/9-19 BT2</td>\n",
              "      <td>4249.8264</td>\n",
              "      <td>NaN</td>\n",
              "      <td>0.0</td>\n",
              "      <td>0.0</td>\n",
              "      <td>NaN</td>\n",
              "      <td>NaN</td>\n",
              "      <td>0.9</td>\n",
              "      <td>NaN</td>\n",
              "      <td>NaN</td>\n",
              "      <td>NaN</td>\n",
              "      <td>NaN</td>\n",
              "      <td>NaN</td>\n",
              "      <td>NaN</td>\n",
              "      <td>OTHER</td>\n",
              "    </tr>\n",
              "  </tbody>\n",
              "</table>\n",
              "<p>6170 rows × 15 columns</p>\n",
              "</div>"
            ],
            "text/plain": [
              "     COMMON_WELL_NAME  DEPTH (M)  ...  VSH (V/V)      LITHOTYPE\n",
              "0           15/9-19 A  3666.5916  ...   0.598800          OTHER\n",
              "1           15/9-19 A  3666.7440  ...   0.599555          OTHER\n",
              "2           15/9-19 A  3666.8964  ...   0.600310          OTHER\n",
              "3           15/9-19 A  3667.0488  ...   0.601065          OTHER\n",
              "4           15/9-19 A  3667.2012  ...   0.601820  CLST.SLTY-X-X\n",
              "...               ...        ...  ...        ...            ...\n",
              "6165      15/9-19 BT2  4249.2168  ...        NaN       CLST-X-X\n",
              "6166      15/9-19 BT2  4249.3692  ...        NaN          OTHER\n",
              "6167      15/9-19 BT2  4249.5216  ...        NaN          OTHER\n",
              "6168      15/9-19 BT2  4249.6740  ...        NaN          OTHER\n",
              "6169      15/9-19 BT2  4249.8264  ...        NaN          OTHER\n",
              "\n",
              "[6170 rows x 15 columns]"
            ]
          },
          "metadata": {
            "tags": []
          },
          "execution_count": 6
        }
      ]
    },
    {
      "cell_type": "code",
      "metadata": {
        "colab": {
          "base_uri": "https://localhost:8080/"
        },
        "id": "n3BY524JLIQg",
        "outputId": "b7453dd4-5c6a-4d9d-bde7-1254e5d59a26"
      },
      "source": [
        "data_combined.shape"
      ],
      "execution_count": 8,
      "outputs": [
        {
          "output_type": "execute_result",
          "data": {
            "text/plain": [
              "(6170, 15)"
            ]
          },
          "metadata": {
            "tags": []
          },
          "execution_count": 8
        }
      ]
    },
    {
      "cell_type": "code",
      "metadata": {
        "colab": {
          "base_uri": "https://localhost:8080/",
          "height": 336
        },
        "id": "eeb8t02dNxbN",
        "outputId": "e512e80e-0273-4bb5-aa2a-0b60680e221b"
      },
      "source": [
        "data_combined.describe()"
      ],
      "execution_count": 9,
      "outputs": [
        {
          "output_type": "execute_result",
          "data": {
            "text/html": [
              "<div>\n",
              "<style scoped>\n",
              "    .dataframe tbody tr th:only-of-type {\n",
              "        vertical-align: middle;\n",
              "    }\n",
              "\n",
              "    .dataframe tbody tr th {\n",
              "        vertical-align: top;\n",
              "    }\n",
              "\n",
              "    .dataframe thead th {\n",
              "        text-align: right;\n",
              "    }\n",
              "</style>\n",
              "<table border=\"1\" class=\"dataframe\">\n",
              "  <thead>\n",
              "    <tr style=\"text-align: right;\">\n",
              "      <th></th>\n",
              "      <th>DEPTH (M)</th>\n",
              "      <th>BVW (V/V)</th>\n",
              "      <th>CARB_FLAG (UNITLESS)</th>\n",
              "      <th>COAL_FLAG (UNITLESS)</th>\n",
              "      <th>KLOGH (MD)</th>\n",
              "      <th>PHIF (V/V)</th>\n",
              "      <th>RHOFL (G/CM3)</th>\n",
              "      <th>RHOMA (G/CM3)</th>\n",
              "      <th>RW (OHMM)</th>\n",
              "      <th>SAND_FLAG (UNITLESS)</th>\n",
              "      <th>SW (V/V)</th>\n",
              "      <th>TEMP (DEGC)</th>\n",
              "      <th>VSH (V/V)</th>\n",
              "    </tr>\n",
              "  </thead>\n",
              "  <tbody>\n",
              "    <tr>\n",
              "      <th>count</th>\n",
              "      <td>6170.000000</td>\n",
              "      <td>4891.000000</td>\n",
              "      <td>5707.000000</td>\n",
              "      <td>6170.000000</td>\n",
              "      <td>4893.000000</td>\n",
              "      <td>4893.000000</td>\n",
              "      <td>6170.000000</td>\n",
              "      <td>4893.000000</td>\n",
              "      <td>4891.000000</td>\n",
              "      <td>4893.000000</td>\n",
              "      <td>4891.000000</td>\n",
              "      <td>4891.000000</td>\n",
              "      <td>5934.000000</td>\n",
              "    </tr>\n",
              "    <tr>\n",
              "      <th>mean</th>\n",
              "      <td>3953.754721</td>\n",
              "      <td>0.099985</td>\n",
              "      <td>0.029655</td>\n",
              "      <td>0.004538</td>\n",
              "      <td>199.775508</td>\n",
              "      <td>0.142906</td>\n",
              "      <td>0.868120</td>\n",
              "      <td>2.656965</td>\n",
              "      <td>0.020853</td>\n",
              "      <td>0.359085</td>\n",
              "      <td>0.764765</td>\n",
              "      <td>117.871047</td>\n",
              "      <td>0.587903</td>\n",
              "    </tr>\n",
              "    <tr>\n",
              "      <th>std</th>\n",
              "      <td>147.179402</td>\n",
              "      <td>0.057754</td>\n",
              "      <td>0.168991</td>\n",
              "      <td>0.067218</td>\n",
              "      <td>700.300119</td>\n",
              "      <td>0.064352</td>\n",
              "      <td>0.046605</td>\n",
              "      <td>0.012286</td>\n",
              "      <td>0.000441</td>\n",
              "      <td>0.479779</td>\n",
              "      <td>0.282096</td>\n",
              "      <td>2.967481</td>\n",
              "      <td>0.575998</td>\n",
              "    </tr>\n",
              "    <tr>\n",
              "      <th>min</th>\n",
              "      <td>3666.591600</td>\n",
              "      <td>0.000000</td>\n",
              "      <td>0.000000</td>\n",
              "      <td>0.000000</td>\n",
              "      <td>0.000000</td>\n",
              "      <td>0.000000</td>\n",
              "      <td>0.800000</td>\n",
              "      <td>2.630000</td>\n",
              "      <td>0.019953</td>\n",
              "      <td>0.000000</td>\n",
              "      <td>0.042200</td>\n",
              "      <td>112.724900</td>\n",
              "      <td>0.019900</td>\n",
              "    </tr>\n",
              "    <tr>\n",
              "      <th>25%</th>\n",
              "      <td>3834.841200</td>\n",
              "      <td>0.063521</td>\n",
              "      <td>0.000000</td>\n",
              "      <td>0.000000</td>\n",
              "      <td>0.000000</td>\n",
              "      <td>0.101126</td>\n",
              "      <td>0.800000</td>\n",
              "      <td>2.650000</td>\n",
              "      <td>0.020553</td>\n",
              "      <td>0.000000</td>\n",
              "      <td>0.564100</td>\n",
              "      <td>115.429350</td>\n",
              "      <td>0.204610</td>\n",
              "    </tr>\n",
              "    <tr>\n",
              "      <th>50%</th>\n",
              "      <td>3952.341600</td>\n",
              "      <td>0.090797</td>\n",
              "      <td>0.000000</td>\n",
              "      <td>0.000000</td>\n",
              "      <td>0.002400</td>\n",
              "      <td>0.135238</td>\n",
              "      <td>0.900000</td>\n",
              "      <td>2.660000</td>\n",
              "      <td>0.020884</td>\n",
              "      <td>0.000000</td>\n",
              "      <td>0.888700</td>\n",
              "      <td>117.601400</td>\n",
              "      <td>0.436806</td>\n",
              "    </tr>\n",
              "    <tr>\n",
              "      <th>75%</th>\n",
              "      <td>4069.842000</td>\n",
              "      <td>0.117660</td>\n",
              "      <td>0.000000</td>\n",
              "      <td>0.000000</td>\n",
              "      <td>23.239000</td>\n",
              "      <td>0.200239</td>\n",
              "      <td>0.900000</td>\n",
              "      <td>2.660000</td>\n",
              "      <td>0.021215</td>\n",
              "      <td>1.000000</td>\n",
              "      <td>1.000000</td>\n",
              "      <td>119.843800</td>\n",
              "      <td>0.905300</td>\n",
              "    </tr>\n",
              "    <tr>\n",
              "      <th>max</th>\n",
              "      <td>4249.826400</td>\n",
              "      <td>0.250109</td>\n",
              "      <td>1.000000</td>\n",
              "      <td>1.000000</td>\n",
              "      <td>13705.309600</td>\n",
              "      <td>0.359646</td>\n",
              "      <td>0.900000</td>\n",
              "      <td>2.710000</td>\n",
              "      <td>0.021643</td>\n",
              "      <td>1.000000</td>\n",
              "      <td>1.000000</td>\n",
              "      <td>124.092100</td>\n",
              "      <td>17.115100</td>\n",
              "    </tr>\n",
              "  </tbody>\n",
              "</table>\n",
              "</div>"
            ],
            "text/plain": [
              "         DEPTH (M)    BVW (V/V)  ...  TEMP (DEGC)    VSH (V/V)\n",
              "count  6170.000000  4891.000000  ...  4891.000000  5934.000000\n",
              "mean   3953.754721     0.099985  ...   117.871047     0.587903\n",
              "std     147.179402     0.057754  ...     2.967481     0.575998\n",
              "min    3666.591600     0.000000  ...   112.724900     0.019900\n",
              "25%    3834.841200     0.063521  ...   115.429350     0.204610\n",
              "50%    3952.341600     0.090797  ...   117.601400     0.436806\n",
              "75%    4069.842000     0.117660  ...   119.843800     0.905300\n",
              "max    4249.826400     0.250109  ...   124.092100    17.115100\n",
              "\n",
              "[8 rows x 13 columns]"
            ]
          },
          "metadata": {
            "tags": []
          },
          "execution_count": 9
        }
      ]
    },
    {
      "cell_type": "code",
      "metadata": {
        "colab": {
          "base_uri": "https://localhost:8080/"
        },
        "id": "oA7kR2jIN3DB",
        "outputId": "33cdd615-d68e-4850-fe2c-930709547b38"
      },
      "source": [
        "data_combined.isnull().sum"
      ],
      "execution_count": 11,
      "outputs": [
        {
          "output_type": "execute_result",
          "data": {
            "text/plain": [
              "<bound method DataFrame.sum of       COMMON_WELL_NAME  DEPTH (M)  BVW (V/V)  ...  TEMP (DEGC)  VSH (V/V)  LITHOTYPE\n",
              "0                False      False      False  ...        False      False      False\n",
              "1                False      False      False  ...        False      False      False\n",
              "2                False      False      False  ...        False      False      False\n",
              "3                False      False      False  ...        False      False      False\n",
              "4                False      False      False  ...        False      False      False\n",
              "...                ...        ...        ...  ...          ...        ...        ...\n",
              "6165             False      False       True  ...         True       True      False\n",
              "6166             False      False       True  ...         True       True      False\n",
              "6167             False      False       True  ...         True       True      False\n",
              "6168             False      False       True  ...         True       True      False\n",
              "6169             False      False       True  ...         True       True      False\n",
              "\n",
              "[6170 rows x 15 columns]>"
            ]
          },
          "metadata": {
            "tags": []
          },
          "execution_count": 11
        }
      ]
    },
    {
      "cell_type": "code",
      "metadata": {
        "colab": {
          "base_uri": "https://localhost:8080/"
        },
        "id": "syIpP2MBO3Jy",
        "outputId": "ce3af9f7-0e33-40fb-a6f2-b28c9a2b7155"
      },
      "source": [
        "data_combined.info()"
      ],
      "execution_count": 12,
      "outputs": [
        {
          "output_type": "stream",
          "text": [
            "<class 'pandas.core.frame.DataFrame'>\n",
            "Int64Index: 6170 entries, 0 to 6169\n",
            "Data columns (total 15 columns):\n",
            " #   Column                Non-Null Count  Dtype  \n",
            "---  ------                --------------  -----  \n",
            " 0   COMMON_WELL_NAME      6170 non-null   object \n",
            " 1   DEPTH (M)             6170 non-null   float64\n",
            " 2   BVW (V/V)             4891 non-null   float64\n",
            " 3   CARB_FLAG (UNITLESS)  5707 non-null   float64\n",
            " 4   COAL_FLAG (UNITLESS)  6170 non-null   float64\n",
            " 5   KLOGH (MD)            4893 non-null   float64\n",
            " 6   PHIF (V/V)            4893 non-null   float64\n",
            " 7   RHOFL (G/CM3)         6170 non-null   float64\n",
            " 8   RHOMA (G/CM3)         4893 non-null   float64\n",
            " 9   RW (OHMM)             4891 non-null   float64\n",
            " 10  SAND_FLAG (UNITLESS)  4893 non-null   float64\n",
            " 11  SW (V/V)              4891 non-null   float64\n",
            " 12  TEMP (DEGC)           4891 non-null   float64\n",
            " 13  VSH (V/V)             5934 non-null   float64\n",
            " 14  LITHOTYPE             6170 non-null   object \n",
            "dtypes: float64(13), object(2)\n",
            "memory usage: 771.2+ KB\n"
          ],
          "name": "stdout"
        }
      ]
    },
    {
      "cell_type": "code",
      "metadata": {
        "colab": {
          "base_uri": "https://localhost:8080/"
        },
        "id": "odyyyjFy7IdP",
        "outputId": "464c772e-4b50-4b5a-e6b7-204e67b05933"
      },
      "source": [
        "data_combined.isnull().any()"
      ],
      "execution_count": 13,
      "outputs": [
        {
          "output_type": "execute_result",
          "data": {
            "text/plain": [
              "COMMON_WELL_NAME        False\n",
              "DEPTH (M)               False\n",
              "BVW (V/V)                True\n",
              "CARB_FLAG (UNITLESS)     True\n",
              "COAL_FLAG (UNITLESS)    False\n",
              "KLOGH (MD)               True\n",
              "PHIF (V/V)               True\n",
              "RHOFL (G/CM3)           False\n",
              "RHOMA (G/CM3)            True\n",
              "RW (OHMM)                True\n",
              "SAND_FLAG (UNITLESS)     True\n",
              "SW (V/V)                 True\n",
              "TEMP (DEGC)              True\n",
              "VSH (V/V)                True\n",
              "LITHOTYPE               False\n",
              "dtype: bool"
            ]
          },
          "metadata": {
            "tags": []
          },
          "execution_count": 13
        }
      ]
    },
    {
      "cell_type": "code",
      "metadata": {
        "id": "Cxp7qv-HPqul",
        "colab": {
          "base_uri": "https://localhost:8080/"
        },
        "outputId": "71741df8-2d2d-46f4-c010-6cf5a6096cc2"
      },
      "source": [
        "# Each column as a Series - This is a 1D array with an index\n",
        "type(data['LITHOTYPE'])"
      ],
      "execution_count": 14,
      "outputs": [
        {
          "output_type": "execute_result",
          "data": {
            "text/plain": [
              "pandas.core.series.Series"
            ]
          },
          "metadata": {
            "tags": []
          },
          "execution_count": 14
        }
      ]
    },
    {
      "cell_type": "code",
      "metadata": {
        "colab": {
          "base_uri": "https://localhost:8080/"
        },
        "id": "ld_QUaoFQeKl",
        "outputId": "e3e319c9-68b2-4893-90ee-636d390af7b8"
      },
      "source": [
        "# basic series attributes and methods\n",
        "ser1 = data['RHOFL (G/CM3)']\n",
        "ser2 = data['RHOMA (G/CM3)']\n",
        "ser3 = data['PHIF (V/V)']\n",
        "# creating a new series \n",
        "ser_rhob = ser2*(1-ser3) + (ser1*ser3)\n",
        "ser_rhob"
      ],
      "execution_count": 15,
      "outputs": [
        {
          "output_type": "execute_result",
          "data": {
            "text/plain": [
              "0       2.288292\n",
              "1       2.253138\n",
              "2       2.209173\n",
              "3       2.238881\n",
              "4       2.257926\n",
              "          ...   \n",
              "3003         NaN\n",
              "3004         NaN\n",
              "3005         NaN\n",
              "3006         NaN\n",
              "3007         NaN\n",
              "Length: 3008, dtype: float64"
            ]
          },
          "metadata": {
            "tags": []
          },
          "execution_count": 15
        }
      ]
    },
    {
      "cell_type": "code",
      "metadata": {
        "scrolled": true,
        "id": "djPOwc9PPqun",
        "colab": {
          "base_uri": "https://localhost:8080/"
        },
        "outputId": "485eb63e-039d-46b9-f8a2-e83b36e628eb"
      },
      "source": [
        "# ser1 is a 1D array\n",
        "print(ser_rhob.index)\n",
        "print(ser_rhob.values)\n",
        "print(ser_rhob.shape)\n",
        "print(ser_rhob.dtypes)\n",
        "print(len(ser_rhob))\n",
        "print(ser_rhob.head(10)) # or ser_rhob.tail(10) - for first or last 10 values\n",
        "print(ser_rhob.describe()) # summary statistics"
      ],
      "execution_count": 17,
      "outputs": [
        {
          "output_type": "stream",
          "text": [
            "RangeIndex(start=0, stop=3008, step=1)\n",
            "[2.28829202 2.25313802 2.2091732  ...        nan        nan        nan]\n",
            "(3008,)\n",
            "float64\n",
            "3008\n",
            "0    2.288292\n",
            "1    2.253138\n",
            "2    2.209173\n",
            "3    2.238881\n",
            "4    2.257926\n",
            "5    2.328721\n",
            "6    2.293141\n",
            "7    2.254154\n",
            "8    2.207185\n",
            "9    2.177118\n",
            "dtype: float64\n",
            "count    1967.000000\n",
            "mean        2.392224\n",
            "std         0.128113\n",
            "min         1.991058\n",
            "25%         2.272158\n",
            "50%         2.412099\n",
            "75%         2.485919\n",
            "max         2.710000\n",
            "dtype: float64\n"
          ],
          "name": "stdout"
        }
      ]
    },
    {
      "cell_type": "code",
      "metadata": {
        "id": "I_iY2vmRPquu",
        "colab": {
          "base_uri": "https://localhost:8080/"
        },
        "outputId": "5aafe60c-bd8e-4166-c7c7-c52307e916a1"
      },
      "source": [
        "\n",
        "data.dropna(how='any', axis = 0, inplace=True) \n",
        "data.info() "
      ],
      "execution_count": 23,
      "outputs": [
        {
          "output_type": "stream",
          "text": [
            "<class 'pandas.core.frame.DataFrame'>\n",
            "Int64Index: 1965 entries, 0 to 1964\n",
            "Data columns (total 15 columns):\n",
            " #   Column                Non-Null Count  Dtype  \n",
            "---  ------                --------------  -----  \n",
            " 0   COMMON_WELL_NAME      1965 non-null   object \n",
            " 1   DEPTH (M)             1965 non-null   float64\n",
            " 2   BVW (V/V)             1965 non-null   float64\n",
            " 3   CARB_FLAG (UNITLESS)  1965 non-null   float64\n",
            " 4   COAL_FLAG (UNITLESS)  1965 non-null   float64\n",
            " 5   KLOGH (MD)            1965 non-null   float64\n",
            " 6   PHIF (V/V)            1965 non-null   float64\n",
            " 7   RHOFL (G/CM3)         1965 non-null   float64\n",
            " 8   RHOMA (G/CM3)         1965 non-null   float64\n",
            " 9   RW (OHMM)             1965 non-null   float64\n",
            " 10  SAND_FLAG (UNITLESS)  1965 non-null   float64\n",
            " 11  SW (V/V)              1965 non-null   float64\n",
            " 12  TEMP (DEGC)           1965 non-null   float64\n",
            " 13  VSH (V/V)             1965 non-null   float64\n",
            " 14  LITHOTYPE             1965 non-null   object \n",
            "dtypes: float64(13), object(2)\n",
            "memory usage: 245.6+ KB\n"
          ],
          "name": "stdout"
        }
      ]
    },
    {
      "cell_type": "code",
      "metadata": {
        "collapsed": true,
        "id": "nvcR0fYIPqu9"
      },
      "source": [
        "\n",
        "import matplotlib.style\n",
        "import matplotlib as mpl\n",
        "import matplotlib.pyplot as plt\n",
        "plt.rcParams['axes.labelsize'] = 16\n",
        "plt.rcParams['axes.labelweight'] = 'bold'\n",
        "plt.rcParams['image.cmap'] = 'gray'\n",
        "mpl.style.use('classic')\n",
        "mpl.rcParams['grid.color'] = 'k'\n",
        "mpl.rcParams['grid.linestyle'] = ':'\n",
        "mpl.rcParams['grid.linewidth'] = 0.5\n",
        "mpl.rcParams['figure.figsize'] = [12,12]\n",
        "mpl.rcParams['figure.dpi'] = 120\n",
        "mpl.rcParams['savefig.dpi'] = 300\n",
        "mpl.rcParams['font.size'] = 12\n",
        "mpl.rcParams['legend.fontsize'] = 'large'\n",
        "mpl.rcParams['figure.titlesize'] = 'medium'\n",
        "mpl.rcParams['patch.force_edgecolor'] = True\n",
        "mpl.rcParams['patch.facecolor'] = 'b'"
      ],
      "execution_count": 24,
      "outputs": []
    },
    {
      "cell_type": "code",
      "metadata": {
        "colab": {
          "base_uri": "https://localhost:8080/",
          "height": 531
        },
        "id": "3tdrdNP1SEs1",
        "outputId": "1919b64e-2a63-4760-cf69-094edd7c07bb"
      },
      "source": [
        "#Shale volume \n",
        "import matplotlib.pyplot as plt\n",
        "%matplotlib inline\n",
        "#%matplotlib # for interactive plot\n",
        "plt.figure(figsize=[8,8])\n",
        "# Line Plot\n",
        "x = data['VSH (V/V)']\n",
        "y = data['DEPTH (M)']\n",
        "plt.xlabel('VSH', fontsize=15)\n",
        "plt.ylabel('Depth (m)', fontsize=15)\n",
        "plt.title('Line Chart Example', fontsize=20)\n",
        "plt.plot(x, y)\n",
        "plt.show()"
      ],
      "execution_count": 25,
      "outputs": [
        {
          "output_type": "display_data",
          "data": {
            "image/png": "[encoded data removed]",
            "text/plain": [
              "<Figure size 576x576 with 1 Axes>"
            ]
          },
          "metadata": {
            "tags": [],
            "needs_background": "light"
          }
        }
      ]
    },
    {
      "cell_type": "code",
      "metadata": {
        "colab": {
          "base_uri": "https://localhost:8080/",
          "height": 540
        },
        "id": "kj1BP0PNSbYM",
        "outputId": "71889a35-99e8-454e-c9da-359b57280a47"
      },
      "source": [
        "# Saturation X permeability \n",
        "\n",
        "plt.figure(figsize=[8,8])\n",
        "\n",
        "x = data['KLOGH (MD)']\n",
        "y = data['SW (V/V)']\n",
        "\n",
        "plt.scatter(x,y, s=8, label='SW') \n",
        "\n",
        "plt.xlabel('KLOGH (MD)', fontsize=15)\n",
        "plt.ylabel('SW (V/V)', fontsize=15)\n",
        "plt.title('Scatter Plot Example', fontsize=20)\n",
        "plt.tick_params(axis='both', which='major', labelsize=14)\n",
        "plt.legend(loc='best')\n",
        "plt.xscale('log')\n",
        "plt.yscale('log')\n",
        "plt.xlim(10,10000)\n",
        "plt.ylim(0.01, 10)\n",
        "plt.show()"
      ],
      "execution_count": 26,
      "outputs": [
        {
          "output_type": "display_data",
          "data": {
            "image/png": "[encoded data removed]",
            "text/plain": [
              "<Figure size 576x576 with 1 Axes>"
            ]
          },
          "metadata": {
            "tags": [],
            "needs_background": "light"
          }
        }
      ]
    },
    {
      "cell_type": "code",
      "metadata": {
        "id": "NHmX84M4TcO_"
      },
      "source": [
        ""
      ],
      "execution_count": null,
      "outputs": []
    },
    {
      "cell_type": "code",
      "metadata": {
        "id": "ygSwgJpmPqu_",
        "colab": {
          "base_uri": "https://localhost:8080/",
          "height": 673
        },
        "outputId": "ce82d03e-313c-4784-90ae-6187f0300f4c"
      },
      "source": [
        "plt.figure(figsize=[8,8])\n",
        "plt.hist(data['LITHOTYPE'])\n",
        "\n",
        "plt.xlabel('Facies', fontsize=15)\n",
        "plt.ylabel('Frequency', fontsize=15)\n",
        "plt.title('Facies Distribution', fontsize=20)\n",
        "plt.tick_params(axis='both', which='major', labelsize=14)\n",
        "plt.xticks(rotation=90)\n",
        "plt.show()"
      ],
      "execution_count": 27,
      "outputs": [
        {
          "output_type": "display_data",
          "data": {
            "image/png": "[encoded data removed]",
            "text/plain": [
              "<Figure size 576x576 with 1 Axes>"
            ]
          },
          "metadata": {
            "tags": [],
            "needs_background": "light"
          }
        }
      ]
    }
  ]
}